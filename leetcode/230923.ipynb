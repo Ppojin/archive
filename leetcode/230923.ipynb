{
 "cells": [
  {
   "cell_type": "markdown",
   "metadata": {},
   "source": [
    "# 1768. Merge Strings Alternately\n",
    "```\n",
    "Example 1:\n",
    "Input: word1 = \"abc\", word2 = \"pqr\"\n",
    "Output: \"apbqcr\"\n",
    "Explanation: The merged string will be merged as so:\n",
    "word1:  a   b   c\n",
    "word2:    p   q   r\n",
    "merged: a p b q c r\n",
    "\n",
    "Example 2:\n",
    "Input: word1 = \"ab\", word2 = \"pqrs\"\n",
    "Output: \"apbqrs\"\n",
    "Explanation: Notice that as word2 is longer, \"rs\" is appended to the end.\n",
    "word1:  a   b \n",
    "word2:    p   q   r   s\n",
    "merged: a p b q   r   s\n",
    "\n",
    "Example 3:\n",
    "Input: word1 = \"abcd\", word2 = \"pq\"\n",
    "Output: \"apbqcd\"\n",
    "Explanation: Notice that as word1 is longer, \"cd\" is appended to the end.\n",
    "word1:  a   b   c   d\n",
    "word2:    p   q \n",
    "merged: a p b q c   d\n",
    "```"
   ]
  },
  {
   "cell_type": "code",
   "execution_count": 1,
   "metadata": {},
   "outputs": [
    {
     "name": "stdout",
     "output_type": "stream",
     "text": [
      "apbqcr\n",
      "apbqrs\n",
      "apbqcd\n"
     ]
    }
   ],
   "source": [
    "class Solution:\n",
    "  def getChar(self, word, i):\n",
    "    return word[i] if len(word) > i else \"\"\n",
    "\n",
    "  def mergeAlternately(self, word1: str, word2: str) -> str:\n",
    "    return \"\".join(\n",
    "      map(lambda i : (\n",
    "        self.getChar(word1, i) + self.getChar(word2, i)\n",
    "      ), range(max(len(word1), len(word2))))\n",
    "    )\n",
    "s = Solution()\n",
    "print(s.mergeAlternately(\"abc\", \"pqr\"))\n",
    "print(s.mergeAlternately(\"ab\", \"pqrs\"))\n",
    "print(s.mergeAlternately(\"abcd\", \"pq\"))"
   ]
  },
  {
   "cell_type": "markdown",
   "metadata": {},
   "source": [
    "# 1071. Greatest Common Divisor of Strings"
   ]
  },
  {
   "cell_type": "markdown",
   "metadata": {},
   "source": [
    "\n",
    "```\n",
    "Example 1:\n",
    "Input: str1 = \"ABCABC\", str2 = \"ABC\"\n",
    "Output: \"ABC\"\n",
    "\n",
    "Example 2:\n",
    "Input: str1 = \"ABABAB\", str2 = \"ABAB\"\n",
    "Output: \"AB\"\n",
    "\n",
    "Example 3:\n",
    "Input: str1 = \"LEET\", str2 = \"CODE\"\n",
    "Output: \"\"\n",
    "```"
   ]
  },
  {
   "cell_type": "code",
   "execution_count": 2,
   "metadata": {},
   "outputs": [
    {
     "name": "stdout",
     "output_type": "stream",
     "text": [
      "ABC\n",
      "AB\n",
      "\n"
     ]
    }
   ],
   "source": [
    "from math import gcd\n",
    "class Solution:\n",
    "  def result(self, s: str, n: int):\n",
    "    i = int(len(s) / n)\n",
    "    r = s[:n]\n",
    "    return r if s == (r*i) else \"\"\n",
    "\n",
    "  def gcdOfStrings(self, str1: str, str2: str) -> str:\n",
    "    n = gcd(len(str1), len(str2))\n",
    "    r1 = self.result(str1, n)\n",
    "    r2 = self.result(str2, n)\n",
    "    return r1 if r1 == r2 else \"\"\n",
    "  \n",
    "s = Solution()\n",
    "print(s.gcdOfStrings(\"ABCABC\", \"ABC\"))\n",
    "print(s.gcdOfStrings(\"ABABAB\", \"ABAB\"))\n",
    "print(s.gcdOfStrings(\"LEET\", \"CODE\"))"
   ]
  },
  {
   "cell_type": "markdown",
   "metadata": {},
   "source": [
    "# 1431. Kids With the Greatest Number of Candies\n",
    "```\n",
    "Example 1:\n",
    "Input: candies = [2,3,5,1,3], extraCandies = 3\n",
    "Output: [true,true,true,false,true] \n",
    "Explanation: If you give all extraCandies to:\n",
    "- Kid 1, they will have 2 + 3 = 5 candies, which is the greatest among the kids.\n",
    "- Kid 2, they will have 3 + 3 = 6 candies, which is the greatest among the kids.\n",
    "- Kid 3, they will have 5 + 3 = 8 candies, which is the greatest among the kids.\n",
    "- Kid 4, they will have 1 + 3 = 4 candies, which is not the greatest among the kids.\n",
    "- Kid 5, they will have 3 + 3 = 6 candies, which is the greatest among the kids.\n",
    "\n",
    "Example 2:\n",
    "Input: candies = [4,2,1,1,2], extraCandies = 1\n",
    "Output: [true,false,false,false,false] \n",
    "Explanation: There is only 1 extra candy.\n",
    "Kid 1 will always have the greatest number of candies, even if a different kid is given the extra candy.\n",
    "\n",
    "Example 3:\n",
    "Input: candies = [12,1,12], extraCandies = 10\n",
    "Output: [true,false,true]\n",
    "```"
   ]
  },
  {
   "cell_type": "code",
   "execution_count": 3,
   "metadata": {},
   "outputs": [
    {
     "name": "stdout",
     "output_type": "stream",
     "text": [
      "[True, True, True, False, True]\n",
      "[True, False, False, False, False]\n",
      "[True, False, True]\n"
     ]
    }
   ],
   "source": [
    "from typing import List\n",
    "\n",
    "class Solution:\n",
    "    def kidsWithCandies(self, candies: List[int], extraCandies: int) -> List[bool]:\n",
    "        m = max(candies)\n",
    "        # https://stackoverflow.com/questions/1247486/list-comprehension-vs-map\n",
    "        # return list(map(lambda c : c + extraCandies >= m, candies))\n",
    "        return [ c + extraCandies >= m for c in candies ]\n",
    "\n",
    "s = Solution()\n",
    "print(s.kidsWithCandies(candies = [2,3,5,1,3], extraCandies = 3))\n",
    "print(s.kidsWithCandies(candies = [4,2,1,1,2], extraCandies = 1))\n",
    "print(s.kidsWithCandies(candies = [12,1,12], extraCandies = 10))"
   ]
  }
 ],
 "metadata": {
  "kernelspec": {
   "display_name": "Python 3",
   "language": "python",
   "name": "python3"
  },
  "language_info": {
   "codemirror_mode": {
    "name": "ipython",
    "version": 3
   },
   "file_extension": ".py",
   "mimetype": "text/x-python",
   "name": "python",
   "nbconvert_exporter": "python",
   "pygments_lexer": "ipython3",
   "version": "3.11.3"
  },
  "orig_nbformat": 4
 },
 "nbformat": 4,
 "nbformat_minor": 2
}
