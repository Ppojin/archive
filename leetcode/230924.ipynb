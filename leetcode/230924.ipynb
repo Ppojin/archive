{
 "cells": [
  {
   "cell_type": "code",
   "execution_count": 1,
   "metadata": {},
   "outputs": [],
   "source": [
    "import common\n",
    "from common import TreeNode"
   ]
  },
  {
   "cell_type": "markdown",
   "metadata": {},
   "source": [
    "# 605. Can Place Flowers\n",
    "```\n",
    "Example 1:\n",
    "Input: flowerbed = [1,0,0,0,1], n = 1\n",
    "Output: true\n",
    "\n",
    "Example 2:\n",
    "Input: flowerbed = [1,0,0,0,1], n = 2\n",
    "Output: false\n",
    "```"
   ]
  },
  {
   "cell_type": "code",
   "execution_count": 2,
   "metadata": {},
   "outputs": [
    {
     "name": "stdout",
     "output_type": "stream",
     "text": [
      "True\n",
      "True\n",
      "False\n",
      "False\n",
      "True\n"
     ]
    }
   ],
   "source": [
    "from typing import List\n",
    "class Solution:\n",
    "  def canPlaceFlowers(self, flowerbed: List[bool], n: int) -> bool:\n",
    "    flowerbed = [0]+flowerbed+[0, 1]\n",
    "    result = 0\n",
    "    space = 0\n",
    "    for i in range(len(flowerbed)):\n",
    "      if flowerbed[i] == 1 and space != 0:\n",
    "        result += int((space-1)/2) \n",
    "        space = 0\n",
    "      elif flowerbed[i] == 0:\n",
    "        space += 1\n",
    "      if result >= n:\n",
    "        break\n",
    "    return result >= n\n",
    "\n",
    "s = Solution()\n",
    "print(s.canPlaceFlowers(flowerbed = [1,0,0,0,1,0,0], n = 2))\n",
    "print(s.canPlaceFlowers(flowerbed = [0,0,1,0,1], n = 1))\n",
    "print(s.canPlaceFlowers(flowerbed = [1,1,1,1,1], n = 2))\n",
    "print(s.canPlaceFlowers(flowerbed = [1,0,0,0,1], n = 2))\n",
    "print(s.canPlaceFlowers(flowerbed = [1,0,0,0,1], n = 1))"
   ]
  },
  {
   "cell_type": "markdown",
   "metadata": {},
   "source": [
    "# 606. Construct String from Binary Tree\n",
    "![Alt text](img/606-1.png)\n",
    "```\n",
    "Input: root = [1,2,3,4]\n",
    "Output: \"1(2(4))(3)\"\n",
    "Explanation: Originally, it needs to be \"1(2(4)())(3()())\", but you need to omit all the unnecessary empty parenthesis pairs. And it will be \"1(2(4))(3)\"\n",
    "```\n",
    "![Alt text](img/606-2.png)\n",
    "```\n",
    "Input: root = [1,2,3,null,4]\n",
    "Output: \"1(2()(4))(3)\"\n",
    "Explanation: Almost the same as the first example, except we cannot omit the first parenthesis pair to break the one-to-one mapping relationship between the input and the output.\n",
    "```"
   ]
  },
  {
   "cell_type": "code",
   "execution_count": 3,
   "metadata": {},
   "outputs": [],
   "source": [
    "from typing import Optional\n",
    "\n",
    "# Definition for a binary tree node.\n",
    "\n",
    "class Solution:\n",
    "  def tree2str(self, root: Optional[TreeNode]) -> str:\n",
    "    if root.right == None and root.left == None:\n",
    "      return str(root.val)\n",
    "    else:\n",
    "      left = \"\" if root.left == None else self.tree2str(root.left)\n",
    "      right = \"\" if root.right == None else (\"(%s)\" % self.tree2str(root.right))\n",
    "      return \"%i(%s)%s\"%( \n",
    "        root.val, \n",
    "        left, \n",
    "        right \n",
    "      )"
   ]
  },
  {
   "cell_type": "code",
   "execution_count": 4,
   "metadata": {},
   "outputs": [
    {
     "name": "stdout",
     "output_type": "stream",
     "text": [
      "1(2)\n",
      "1(2(4))(3)\n",
      "1(2()(4))(3)\n"
     ]
    }
   ],
   "source": [
    "s = Solution()\n",
    "print(s.tree2str(common.build_binary_tree([1,2])))\n",
    "print(s.tree2str(common.build_binary_tree([1,2,3,4])))\n",
    "print(s.tree2str(common.build_binary_tree([1,2,3,None,4])))"
   ]
  },
  {
   "cell_type": "markdown",
   "metadata": {},
   "source": [
    "# 345. Reverse Vowels of a String\n",
    "\n",
    "```\n",
    "Example 1:\n",
    "Input: s = \"hello\"\n",
    "Output: \"holle\"\n",
    "\n",
    "Example 2:\n",
    "Input: s = \"leetcode\"\n",
    "Output: \"leotcede\"\n",
    "```"
   ]
  },
  {
   "cell_type": "code",
   "execution_count": 5,
   "metadata": {},
   "outputs": [
    {
     "name": "stdout",
     "output_type": "stream",
     "text": [
      "aA\n",
      "holle\n",
      "leotcede\n"
     ]
    }
   ],
   "source": [
    "from typing import List\n",
    "class Solution:\n",
    "  def reverseVowels(self, s: str) -> str:\n",
    "    vowels = set(['a', 'e', 'i', 'o', 'u', 'A', 'E', 'I', 'O', 'U'])\n",
    "    filtered = list(filter(lambda c : c in vowels, s))\n",
    "    return \"\".join(map(lambda c : filtered.pop() if c in vowels else c, s))\n",
    "\n",
    "s = Solution()\n",
    "print(s.reverseVowels(\"Aa\"))\n",
    "print(s.reverseVowels(\"hello\"))\n",
    "print(s.reverseVowels(\"leetcode\"))\n"
   ]
  },
  {
   "cell_type": "code",
   "execution_count": 6,
   "metadata": {},
   "outputs": [
    {
     "name": "stdout",
     "output_type": "stream",
     "text": [
      "> Aa 0 A 1 a\n",
      "< aA 0 a 1 A\n",
      "aA\n",
      "> hello 1 e 4 o\n",
      "< holle 1 o 4 e\n",
      "holle\n",
      "> leetcode 1 e 7 e\n",
      "< leetcode 1 e 7 e\n",
      "> leetcode 2 e 5 o\n",
      "< leotcede 2 o 5 e\n",
      "leotcede\n"
     ]
    }
   ],
   "source": [
    "from typing import List\n",
    "\n",
    "class Solution:\n",
    "  def reverseVowels(self, s: str) -> str:\n",
    "    result = list(s)\n",
    "    vowels = set(['a', 'e', 'i', 'o', 'u', 'A', 'E', 'I', 'O', 'U'])\n",
    "    start = 0\n",
    "    end = len(s) - 1\n",
    "    while start < end:\n",
    "      while (start < len(s)) and (s[start] not in vowels):\n",
    "        start += 1\n",
    "      while (end >= 0) and (s[end] not in vowels):\n",
    "        end -= 1\n",
    "      if start < end:\n",
    "        print(\">\", \"\".join(result), start, result[start], end, result[end])\n",
    "        temp = result[start]\n",
    "        result[start] = result[end]\n",
    "        result[end] = temp\n",
    "        print(\"<\", \"\".join(result), start, result[start], end, result[end])\n",
    "        start += 1\n",
    "        end -= 1\n",
    "    return \"\".join(result)\n",
    "\n",
    "s = Solution()\n",
    "print(s.reverseVowels(\"Aa\"))\n",
    "print(s.reverseVowels(\"hello\"))\n",
    "print(s.reverseVowels(\"leetcode\"))\n"
   ]
  },
  {
   "cell_type": "markdown",
   "metadata": {},
   "source": [
    "# 1048. Longest String Chain\n",
    "```\n",
    "Example 1:\n",
    "Input: words = [\"a\",\"b\",\"ba\",\"bca\",\"bda\",\"bdca\"]\n",
    "Output: 4\n",
    "Explanation: One of the longest word chains is [\"a\",\"ba\",\"bda\",\"bdca\"].\n",
    "\n",
    "Example 2:\n",
    "Input: words = [\"xbc\",\"pcxbcf\",\"xb\",\"cxbc\",\"pcxbc\"]\n",
    "Output: 5\n",
    "Explanation: All the words can be put in a word chain [\"xb\", \"xbc\", \"cxbc\", \"pcxbc\", \"pcxbcf\"].\n",
    "\n",
    "Example 3:\n",
    "Input: words = [\"abcd\",\"dbqca\"]\n",
    "Output: 1\n",
    "Explanation: The trivial word chain [\"abcd\"] is one of the longest word chains.\n",
    "[\"abcd\",\"dbqca\"] is not a valid word chain because the ordering of the letters is changed.\n",
    "```"
   ]
  },
  {
   "cell_type": "code",
   "execution_count": 7,
   "metadata": {},
   "outputs": [
    {
     "name": "stdout",
     "output_type": "stream",
     "text": [
      "{}\n",
      "{'a': 1}\n",
      "{'a': 1, 'b': 1}\n",
      "{'a': 1, 'b': 1, 'ba': 2}\n",
      "{'a': 1, 'b': 1, 'ba': 2, 'bca': 3}\n",
      "{'a': 1, 'b': 1, 'ba': 2, 'bca': 3, 'bda': 3}\n",
      "4\n",
      "{}\n",
      "{'xb': 1}\n",
      "{'xb': 1, 'xbc': 2}\n",
      "{'xb': 1, 'xbc': 2, 'cxbc': 3}\n",
      "{'xb': 1, 'xbc': 2, 'cxbc': 3, 'pcxbc': 4}\n",
      "5\n",
      "{}\n",
      "{'abcd': 1}\n",
      "1\n"
     ]
    }
   ],
   "source": [
    "from typing import List\n",
    "class Solution:\n",
    "  def longestStrChain(self, words: List[str]) -> int:\n",
    "    hashTable = {}\n",
    "    for word in sorted(words, key=len):\n",
    "      print(hashTable)\n",
    "      hashTable[word] = max(map(lambda h:\n",
    "        1 if h not in hashTable else (hashTable[h]+1)\n",
    "        , map(lambda i : word[:i] + word[i + 1:], range(len(word)))\n",
    "      ))\n",
    "    return max(hashTable.values())\n",
    "    \n",
    "\n",
    "s = Solution()\n",
    "print(s.longestStrChain([\"a\",\"b\",\"ba\",\"bca\",\"bda\",\"bdca\"]))\n",
    "print(s.longestStrChain([\"xbc\",\"pcxbcf\",\"xb\",\"cxbc\",\"pcxbc\"]))\n",
    "print(s.longestStrChain([\"abcd\",\"dbqca\"]))"
   ]
  },
  {
   "cell_type": "markdown",
   "metadata": {},
   "source": [
    "# 799. Champagne Tower\n",
    "\n",
    "![Alt text](img/799.png)\n",
    "\n",
    "```\n",
    "Example 1:\n",
    "Input: poured = 1, query_row = 1, query_glass = 1\n",
    "Output: 0.00000\n",
    "Explanation: We poured 1 cup of champange to the top glass of the tower (which is indexed as (0, 0)). There will be no excess liquid so all the glasses under the top glass will remain empty.\n",
    "\n",
    "Example 2:\n",
    "Input: poured = 2, query_row = 1, query_glass = 1\n",
    "Output: 0.50000\n",
    "Explanation: We poured 2 cups of champange to the top glass of the tower (which is indexed as (0, 0)). There is one cup of excess liquid. The glass indexed as (1, 0) and the glass indexed as (1, 1) will share the excess liquid equally, and each will get half cup of champange.\n",
    "\n",
    "Example 3:\n",
    "Input: poured = 100000009, query_row = 33, query_glass = 17\n",
    "Output: 1.00000\n",
    "```"
   ]
  },
  {
   "cell_type": "code",
   "execution_count": null,
   "metadata": {},
   "outputs": [],
   "source": [
    "class Cup:\n",
    "  def __init__(self, row, index, target:tuple(int,int)):\n",
    "    target[0]\n",
    "\n",
    "class Solution:\n",
    "  def champagneTower(self, poured: int, query_row: int, query_glass: int) -> float:\n",
    "    "
   ]
  },
  {
   "cell_type": "markdown",
   "metadata": {},
   "source": []
  }
 ],
 "metadata": {
  "kernelspec": {
   "display_name": "Python 3 (ipykernel)",
   "language": "python",
   "name": "python3"
  },
  "language_info": {
   "codemirror_mode": {
    "name": "ipython",
    "version": 3
   },
   "file_extension": ".py",
   "mimetype": "text/x-python",
   "name": "python",
   "nbconvert_exporter": "python",
   "pygments_lexer": "ipython3",
   "version": "3.11.3"
  }
 },
 "nbformat": 4,
 "nbformat_minor": 4
}
