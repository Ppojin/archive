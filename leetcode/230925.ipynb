{
 "cells": [
  {
   "cell_type": "markdown",
   "metadata": {},
   "source": [
    "# 605. Can Place Flowers\n",
    "```\n",
    "Example 1:\n",
    "Input: flowerbed = [1,0,0,0,1], n = 1\n",
    "Output: true\n",
    "\n",
    "Example 2:\n",
    "Input: flowerbed = [1,0,0,0,1], n = 2\n",
    "Output: false\n",
    "```"
   ]
  },
  {
   "cell_type": "code",
   "execution_count": 2,
   "metadata": {},
   "outputs": [
    {
     "name": "stdout",
     "output_type": "stream",
     "text": [
      "True\n",
      "True\n",
      "False\n",
      "False\n",
      "True\n"
     ]
    }
   ],
   "source": [
    "from typing import List\n",
    "class Solution:\n",
    "  def canPlaceFlowers(self, flowerbed: List[bool], n: int) -> bool:\n",
    "    flowerbed = [0]+flowerbed+[0, 1]\n",
    "    result = 0\n",
    "    space = 0\n",
    "    for i in range(len(flowerbed)):\n",
    "      if flowerbed[i] == 1 and space != 0:\n",
    "        result += int((space-1)/2) \n",
    "        space = 0\n",
    "      elif flowerbed[i] == 0:\n",
    "        space += 1\n",
    "      if result >= n:\n",
    "        break\n",
    "    return result >= n\n",
    "\n",
    "s = Solution()\n",
    "print(s.canPlaceFlowers(flowerbed = [1,0,0,0,1,0,0], n = 2))\n",
    "print(s.canPlaceFlowers(flowerbed = [0,0,1,0,1], n = 1))\n",
    "print(s.canPlaceFlowers(flowerbed = [1,1,1,1,1], n = 2))\n",
    "print(s.canPlaceFlowers(flowerbed = [1,0,0,0,1], n = 2))\n",
    "print(s.canPlaceFlowers(flowerbed = [1,0,0,0,1], n = 1))"
   ]
  },
  {
   "cell_type": "code",
   "execution_count": null,
   "metadata": {},
   "outputs": [],
   "source": []
  }
 ],
 "metadata": {
  "kernelspec": {
   "display_name": "Python 3",
   "language": "python",
   "name": "python3"
  },
  "language_info": {
   "codemirror_mode": {
    "name": "ipython",
    "version": 3
   },
   "file_extension": ".py",
   "mimetype": "text/x-python",
   "name": "python",
   "nbconvert_exporter": "python",
   "pygments_lexer": "ipython3",
   "version": "3.11.3"
  },
  "orig_nbformat": 4
 },
 "nbformat": 4,
 "nbformat_minor": 2
}
