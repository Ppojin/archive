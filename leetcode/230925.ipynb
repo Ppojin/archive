{
 "cells": [
  {
   "cell_type": "markdown",
   "metadata": {},
   "source": [
    "# 605. Can Place Flowers\n",
    "```\n",
    "Example 1:\n",
    "Input: flowerbed = [1,0,0,0,1], n = 1\n",
    "Output: true\n",
    "\n",
    "Example 2:\n",
    "Input: flowerbed = [1,0,0,0,1], n = 2\n",
    "Output: false\n",
    "```"
   ]
  },
  {
   "cell_type": "code",
   "execution_count": 1,
   "metadata": {},
   "outputs": [
    {
     "name": "stdout",
     "output_type": "stream",
     "text": [
      "True\n",
      "True\n",
      "False\n",
      "False\n",
      "True\n"
     ]
    }
   ],
   "source": [
    "from typing import List\n",
    "class Solution:\n",
    "  def canPlaceFlowers(self, flowerbed: List[bool], n: int) -> bool:\n",
    "    flowerbed = [0]+flowerbed+[0, 1]\n",
    "    result = 0\n",
    "    space = 0\n",
    "    for i in range(len(flowerbed)):\n",
    "      if flowerbed[i] == 1 and space != 0:\n",
    "        result += int((space-1)/2) \n",
    "        space = 0\n",
    "      elif flowerbed[i] == 0:\n",
    "        space += 1\n",
    "      if result >= n:\n",
    "        break\n",
    "    return result >= n\n",
    "\n",
    "s = Solution()\n",
    "print(s.canPlaceFlowers(flowerbed = [1,0,0,0,1,0,0], n = 2))\n",
    "print(s.canPlaceFlowers(flowerbed = [0,0,1,0,1], n = 1))\n",
    "print(s.canPlaceFlowers(flowerbed = [1,1,1,1,1], n = 2))\n",
    "print(s.canPlaceFlowers(flowerbed = [1,0,0,0,1], n = 2))\n",
    "print(s.canPlaceFlowers(flowerbed = [1,0,0,0,1], n = 1))"
   ]
  },
  {
   "cell_type": "markdown",
   "metadata": {},
   "source": [
    "# 606. Construct String from Binary Tree\n",
    "![Alt text](img/606-1.png)\n",
    "```\n",
    "Input: root = [1,2,3,4]\n",
    "Output: \"1(2(4))(3)\"\n",
    "Explanation: Originally, it needs to be \"1(2(4)())(3()())\", but you need to omit all the unnecessary empty parenthesis pairs. And it will be \"1(2(4))(3)\"\n",
    "```\n",
    "![Alt text](img/606-2.png)\n",
    "```\n",
    "Input: root = [1,2,3,null,4]\n",
    "Output: \"1(2()(4))(3)\"\n",
    "Explanation: Almost the same as the first example, except we cannot omit the first parenthesis pair to break the one-to-one mapping relationship between the input and the output.\n",
    "```"
   ]
  },
  {
   "cell_type": "code",
   "execution_count": 2,
   "metadata": {},
   "outputs": [],
   "source": [
    "from typing import Optional\n",
    "from common import TreeNode\n",
    "\n",
    "# Definition for a binary tree node.\n",
    "\n",
    "class Solution:\n",
    "  def tree2str(self, root: Optional[TreeNode]) -> str:\n",
    "    if root.right == None and root.left == None:\n",
    "      return str(root.val)\n",
    "    else:\n",
    "      left = \"\" if root.left == None else self.tree2str(root.left)\n",
    "      right = \"\" if root.right == None else (\"(%s)\" % self.tree2str(root.right))\n",
    "      return \"%i(%s)%s\"%( \n",
    "        root.val, \n",
    "        left, \n",
    "        right \n",
    "      )"
   ]
  },
  {
   "cell_type": "code",
   "execution_count": 3,
   "metadata": {},
   "outputs": [
    {
     "name": "stdout",
     "output_type": "stream",
     "text": [
      "1(2)\n",
      "1(2(4))(3)\n",
      "1(2()(4))(3)\n"
     ]
    }
   ],
   "source": [
    "import common\n",
    "s = Solution()\n",
    "print(s.tree2str(common.build_binary_tree([1,2])))\n",
    "print(s.tree2str(common.build_binary_tree([1,2,3,4])))\n",
    "print(s.tree2str(common.build_binary_tree([1,2,3,None,4])))"
   ]
  },
  {
   "cell_type": "code",
   "execution_count": null,
   "metadata": {},
   "outputs": [],
   "source": []
  },
  {
   "cell_type": "code",
   "execution_count": null,
   "metadata": {},
   "outputs": [],
   "source": []
  }
 ],
 "metadata": {
  "kernelspec": {
   "display_name": "Python 3",
   "language": "python",
   "name": "python3"
  },
  "language_info": {
   "codemirror_mode": {
    "name": "ipython",
    "version": 3
   },
   "file_extension": ".py",
   "mimetype": "text/x-python",
   "name": "python",
   "nbconvert_exporter": "python",
   "pygments_lexer": "ipython3",
   "version": "3.11.3"
  },
  "orig_nbformat": 4
 },
 "nbformat": 4,
 "nbformat_minor": 2
}
